{
 "cells": [
  {
   "cell_type": "markdown",
   "id": "902827aa-580e-4c03-ba16-aeb2258769c8",
   "metadata": {},
   "source": [
    "# Task 1a\n",
    "#### Please note that you are required to run this code before running the code in Task 1b. You need the output of this code as the base file in Task 1b."
   ]
  },
  {
   "cell_type": "markdown",
   "id": "99dc0744",
   "metadata": {},
   "source": [
    "### Import Required Libraries"
   ]
  },
  {
   "cell_type": "code",
   "execution_count": 100,
   "id": "863b12dc",
   "metadata": {},
   "outputs": [],
   "source": [
    "import pandas as pd\n",
    "from bs4 import BeautifulSoup\n",
    "import requests\n",
    "import csv\n",
    "import os\n",
    "import shutil"
   ]
  },
  {
   "cell_type": "markdown",
   "id": "90264e33",
   "metadata": {},
   "source": [
    "### Initialise URL and CSV Files"
   ]
  },
  {
   "cell_type": "code",
   "execution_count": 108,
   "id": "28a66282",
   "metadata": {},
   "outputs": [],
   "source": [
    "# URL for AER issue page \n",
    "url = \"https://www.aeaweb.org/journals/aer/issues\"\n",
    "\n",
    "# Set the name for the csv file into which we want to scrape the data\n",
    "filename = \"task1a_manas_vaidya.csv\"\n"
   ]
  },
  {
   "cell_type": "markdown",
   "id": "d90d6e75",
   "metadata": {},
   "source": [
    "### Scraper function"
   ]
  },
  {
   "cell_type": "code",
   "execution_count": 109,
   "id": "baaf3f26",
   "metadata": {},
   "outputs": [],
   "source": [
    "def scrape_aea(url_link, csv_filename):\n",
    "    # Extract contents\n",
    "    source = requests.get(url_link).text\n",
    "\n",
    "    # Create BeautifulSoup object of journals\n",
    "    soup = BeautifulSoup(source, \"lxml\")\n",
    "\n",
    "    # Filter object to volume-issue data\n",
    "    journals = soup.find(\"section\", class_ = \"journal-preview-group\")\n",
    "\n",
    "\n",
    "    # Prepare CSV file\n",
    "    csv_file = open(csv_filename, \"w\")\n",
    "    csv_writer = csv.writer(csv_file)\n",
    "    csv_writer.writerow([\"volume\", \"link\", \"issue_date\"]) #Set column names\n",
    "\n",
    "\n",
    "    # Loop all volumes sections within the data\n",
    "    for volume in journals.find_all('article'):\n",
    "        # Loop all issues within each volume\n",
    "        for issue in article.find_all('div'):\n",
    "            vol = volume.span.text  # Extract volume\n",
    "            lnk = f'https://www.aeaweb.org{issue.a.get(\"href\")}'  # Extract url and create comprehensive link\n",
    "            iss = issue.a.text  # Extract issue date\n",
    "\n",
    "            csv_writer.writerow([vol, lnk, iss]) # Append data to the csv file\n",
    "\n",
    "    csv_file.close() # Close csv file\n"
   ]
  },
  {
   "cell_type": "markdown",
   "id": "a870f3f4",
   "metadata": {},
   "source": [
    "### Scrape Data"
   ]
  },
  {
   "cell_type": "code",
   "execution_count": 110,
   "id": "2fd4132f",
   "metadata": {},
   "outputs": [],
   "source": [
    "scrape_aea(url, filename)\n"
   ]
  },
  {
   "cell_type": "markdown",
   "id": "7314d15b",
   "metadata": {},
   "source": [
    "### Read Data"
   ]
  },
  {
   "cell_type": "code",
   "execution_count": 111,
   "id": "8f3acdd6",
   "metadata": {
    "scrolled": true
   },
   "outputs": [
    {
     "data": {
      "text/html": [
       "<div>\n",
       "<style scoped>\n",
       "    .dataframe tbody tr th:only-of-type {\n",
       "        vertical-align: middle;\n",
       "    }\n",
       "\n",
       "    .dataframe tbody tr th {\n",
       "        vertical-align: top;\n",
       "    }\n",
       "\n",
       "    .dataframe thead th {\n",
       "        text-align: right;\n",
       "    }\n",
       "</style>\n",
       "<table border=\"1\" class=\"dataframe\">\n",
       "  <thead>\n",
       "    <tr style=\"text-align: right;\">\n",
       "      <th></th>\n",
       "      <th>volume</th>\n",
       "      <th>link</th>\n",
       "      <th>issue_date</th>\n",
       "    </tr>\n",
       "  </thead>\n",
       "  <tbody>\n",
       "    <tr>\n",
       "      <th>0</th>\n",
       "      <td>Volume 112</td>\n",
       "      <td>https://www.aeaweb.org/issues/156</td>\n",
       "      <td>December 1999 (Vol. 89, No.5 )</td>\n",
       "    </tr>\n",
       "    <tr>\n",
       "      <th>1</th>\n",
       "      <td>Volume 112</td>\n",
       "      <td>https://www.aeaweb.org/issues/157</td>\n",
       "      <td>September 1999 (Vol. 89, No.4 )</td>\n",
       "    </tr>\n",
       "    <tr>\n",
       "      <th>2</th>\n",
       "      <td>Volume 112</td>\n",
       "      <td>https://www.aeaweb.org/issues/158</td>\n",
       "      <td>June 1999 (Vol. 89, No.3 )</td>\n",
       "    </tr>\n",
       "    <tr>\n",
       "      <th>3</th>\n",
       "      <td>Volume 112</td>\n",
       "      <td>https://www.aeaweb.org/issues/159</td>\n",
       "      <td>May 1999 (Vol. 89, No.2 )</td>\n",
       "    </tr>\n",
       "    <tr>\n",
       "      <th>4</th>\n",
       "      <td>Volume 112</td>\n",
       "      <td>https://www.aeaweb.org/issues/160</td>\n",
       "      <td>March 1999 (Vol. 89, No.1 )</td>\n",
       "    </tr>\n",
       "    <tr>\n",
       "      <th>...</th>\n",
       "      <td>...</td>\n",
       "      <td>...</td>\n",
       "      <td>...</td>\n",
       "    </tr>\n",
       "    <tr>\n",
       "      <th>115</th>\n",
       "      <td>Volume 89</td>\n",
       "      <td>https://www.aeaweb.org/issues/156</td>\n",
       "      <td>December 1999 (Vol. 89, No.5 )</td>\n",
       "    </tr>\n",
       "    <tr>\n",
       "      <th>116</th>\n",
       "      <td>Volume 89</td>\n",
       "      <td>https://www.aeaweb.org/issues/157</td>\n",
       "      <td>September 1999 (Vol. 89, No.4 )</td>\n",
       "    </tr>\n",
       "    <tr>\n",
       "      <th>117</th>\n",
       "      <td>Volume 89</td>\n",
       "      <td>https://www.aeaweb.org/issues/158</td>\n",
       "      <td>June 1999 (Vol. 89, No.3 )</td>\n",
       "    </tr>\n",
       "    <tr>\n",
       "      <th>118</th>\n",
       "      <td>Volume 89</td>\n",
       "      <td>https://www.aeaweb.org/issues/159</td>\n",
       "      <td>May 1999 (Vol. 89, No.2 )</td>\n",
       "    </tr>\n",
       "    <tr>\n",
       "      <th>119</th>\n",
       "      <td>Volume 89</td>\n",
       "      <td>https://www.aeaweb.org/issues/160</td>\n",
       "      <td>March 1999 (Vol. 89, No.1 )</td>\n",
       "    </tr>\n",
       "  </tbody>\n",
       "</table>\n",
       "<p>120 rows × 3 columns</p>\n",
       "</div>"
      ],
      "text/plain": [
       "         volume                               link  \\\n",
       "0    Volume 112  https://www.aeaweb.org/issues/156   \n",
       "1    Volume 112  https://www.aeaweb.org/issues/157   \n",
       "2    Volume 112  https://www.aeaweb.org/issues/158   \n",
       "3    Volume 112  https://www.aeaweb.org/issues/159   \n",
       "4    Volume 112  https://www.aeaweb.org/issues/160   \n",
       "..          ...                                ...   \n",
       "115   Volume 89  https://www.aeaweb.org/issues/156   \n",
       "116   Volume 89  https://www.aeaweb.org/issues/157   \n",
       "117   Volume 89  https://www.aeaweb.org/issues/158   \n",
       "118   Volume 89  https://www.aeaweb.org/issues/159   \n",
       "119   Volume 89  https://www.aeaweb.org/issues/160   \n",
       "\n",
       "                          issue_date  \n",
       "0     December 1999 (Vol. 89, No.5 )  \n",
       "1    September 1999 (Vol. 89, No.4 )  \n",
       "2         June 1999 (Vol. 89, No.3 )  \n",
       "3          May 1999 (Vol. 89, No.2 )  \n",
       "4        March 1999 (Vol. 89, No.1 )  \n",
       "..                               ...  \n",
       "115   December 1999 (Vol. 89, No.5 )  \n",
       "116  September 1999 (Vol. 89, No.4 )  \n",
       "117       June 1999 (Vol. 89, No.3 )  \n",
       "118        May 1999 (Vol. 89, No.2 )  \n",
       "119      March 1999 (Vol. 89, No.1 )  \n",
       "\n",
       "[120 rows x 3 columns]"
      ]
     },
     "execution_count": 111,
     "metadata": {},
     "output_type": "execute_result"
    }
   ],
   "source": [
    "pd.read_csv(filename)"
   ]
  },
  {
   "cell_type": "code",
   "execution_count": null,
   "id": "5fb7ddad",
   "metadata": {},
   "outputs": [],
   "source": []
  }
 ],
 "metadata": {
  "kernelspec": {
   "display_name": "Python 3 (ipykernel)",
   "language": "python",
   "name": "python3"
  },
  "language_info": {
   "codemirror_mode": {
    "name": "ipython",
    "version": 3
   },
   "file_extension": ".py",
   "mimetype": "text/x-python",
   "name": "python",
   "nbconvert_exporter": "python",
   "pygments_lexer": "ipython3",
   "version": "3.9.12"
  }
 },
 "nbformat": 4,
 "nbformat_minor": 5
}
